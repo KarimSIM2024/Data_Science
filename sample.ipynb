{
 "cells": [
  {
   "metadata": {},
   "cell_type": "markdown",
   "source": "# Lab 1 Answers\n",
   "id": "8a77807f92f26ee"
  },
  {
   "metadata": {
    "ExecuteTime": {
     "end_time": "2024-10-30T08:35:29.506300Z",
     "start_time": "2024-10-30T08:35:29.502676Z"
    }
   },
   "cell_type": "code",
   "source": "print(\"Hello World!\")",
   "id": "fbc121e30a2defb3",
   "outputs": [
    {
     "name": "stdout",
     "output_type": "stream",
     "text": [
      "Hello World!\n"
     ]
    }
   ],
   "execution_count": 7
  },
  {
   "metadata": {
    "ExecuteTime": {
     "end_time": "2024-10-30T08:35:29.534599Z",
     "start_time": "2024-10-30T08:35:29.532498Z"
    }
   },
   "cell_type": "code",
   "source": [
    "def     main(): print (\" Hello World!\")\n",
    "main()"
   ],
   "id": "227457b57b1d4355",
   "outputs": [
    {
     "name": "stdout",
     "output_type": "stream",
     "text": [
      " Hello World!\n"
     ]
    }
   ],
   "execution_count": 8
  },
  {
   "metadata": {
    "ExecuteTime": {
     "end_time": "2024-10-30T08:35:29.574070Z",
     "start_time": "2024-10-30T08:35:29.551040Z"
    }
   },
   "cell_type": "code",
   "source": [
    "import numpy as np\n",
    "list = np.array([1,2,3,4,5,6,7,8,9])\n",
    "np.random.seed()"
   ],
   "id": "a522c2655cf8ab84",
   "outputs": [],
   "execution_count": 9
  },
  {
   "metadata": {
    "ExecuteTime": {
     "end_time": "2024-10-30T08:35:29.582865Z",
     "start_time": "2024-10-30T08:35:29.579757Z"
    }
   },
   "cell_type": "code",
   "source": "print(np.random.choice(list))",
   "id": "69c4daaa6f9445bc",
   "outputs": [
    {
     "name": "stdout",
     "output_type": "stream",
     "text": [
      "9\n"
     ]
    }
   ],
   "execution_count": 10
  },
  {
   "metadata": {
    "ExecuteTime": {
     "end_time": "2024-10-30T08:35:29.594047Z",
     "start_time": "2024-10-30T08:35:29.591547Z"
    }
   },
   "cell_type": "code",
   "source": [
    "print(np.random.choice(list))\n",
    "print(np.random.choice(list))\n",
    "print(np.random.choice(list))\n",
    "print(np.random.choice(list))\n",
    "print(np.random.choice(list))"
   ],
   "id": "8a1a56898cfb0680",
   "outputs": [
    {
     "name": "stdout",
     "output_type": "stream",
     "text": [
      "4\n",
      "4\n",
      "6\n",
      "1\n",
      "2\n"
     ]
    }
   ],
   "execution_count": 11
  },
  {
   "metadata": {
    "ExecuteTime": {
     "end_time": "2024-10-30T08:35:29.613353Z",
     "start_time": "2024-10-30T08:35:29.611313Z"
    }
   },
   "cell_type": "code",
   "source": "print(np.absolute(list))",
   "id": "a82f029e634baeef",
   "outputs": [
    {
     "name": "stdout",
     "output_type": "stream",
     "text": [
      "[1 2 3 4 5 6 7 8 9]\n"
     ]
    }
   ],
   "execution_count": 12
  },
  {
   "metadata": {
    "ExecuteTime": {
     "end_time": "2024-10-30T08:35:29.626137Z",
     "start_time": "2024-10-30T08:35:29.624373Z"
    }
   },
   "cell_type": "code",
   "source": "print(np.mean(list))",
   "id": "822ed5fa67d851fe",
   "outputs": [
    {
     "name": "stdout",
     "output_type": "stream",
     "text": [
      "5.0\n"
     ]
    }
   ],
   "execution_count": 13
  },
  {
   "metadata": {
    "ExecuteTime": {
     "end_time": "2024-10-30T08:35:29.642121Z",
     "start_time": "2024-10-30T08:35:29.640255Z"
    }
   },
   "cell_type": "code",
   "source": "print(np.std(list))",
   "id": "170551f7a2a11e16",
   "outputs": [
    {
     "name": "stdout",
     "output_type": "stream",
     "text": [
      "2.581988897471611\n"
     ]
    }
   ],
   "execution_count": 14
  },
  {
   "metadata": {
    "ExecuteTime": {
     "end_time": "2024-10-30T08:35:29.663387Z",
     "start_time": "2024-10-30T08:35:29.659909Z"
    }
   },
   "cell_type": "code",
   "source": "print(np.median(list))",
   "id": "f36660a00ba7106f",
   "outputs": [
    {
     "name": "stdout",
     "output_type": "stream",
     "text": [
      "5.0\n"
     ]
    }
   ],
   "execution_count": 15
  },
  {
   "metadata": {
    "ExecuteTime": {
     "end_time": "2024-10-30T08:35:29.674063Z",
     "start_time": "2024-10-30T08:35:29.672083Z"
    }
   },
   "cell_type": "code",
   "source": "%whos",
   "id": "705d8cf90a09c011",
   "outputs": [
    {
     "name": "stdout",
     "output_type": "stream",
     "text": [
      "Variable                        Type        Data/Info\n",
      "-----------------------------------------------------\n",
      "letter_array                    ndarray     10: 10 elems, type `<U1`, 40 bytes\n",
      "list                            ndarray     9: 9 elems, type `int64`, 72 bytes\n",
      "main                            function    <function main at 0x1080d0680>\n",
      "np                              module      <module 'numpy' from '/Us<...>kages/numpy/__init__.py'>\n",
      "pydev_jupyter_vars              module      <module 'pydev_jupyter_va<...>g/pydev_jupyter_vars.py'>\n",
      "remove_imported_pydev_package   function    <function remove_imported<...>v_package at 0x10772da80>\n",
      "sys                             module      <module 'sys' (built-in)>\n"
     ]
    }
   ],
   "execution_count": 16
  },
  {
   "metadata": {
    "ExecuteTime": {
     "end_time": "2024-10-30T08:35:30.035658Z",
     "start_time": "2024-10-30T08:35:29.687541Z"
    }
   },
   "cell_type": "code",
   "source": [
    "import matplotlib.pyplot as plt\n",
    "\n",
    "def is_prime(n):\n",
    "    if n <= 1:\n",
    "        return False\n",
    "    for i in range(2, int(n**0.5) + 1):\n",
    "        if n % i == 0:\n",
    "            return False\n",
    "    return True\n",
    "\n",
    "def first_n_primes(n):\n",
    "    primes = []\n",
    "    candidate = 2\n",
    "    while len(primes) < n:\n",
    "        if is_prime(candidate):\n",
    "            primes.append(candidate)\n",
    "        candidate += 1\n",
    "    return primes\n",
    "\n",
    "# Get the first 100 prime numbers\n",
    "first_100_primes = first_n_primes(100)\n",
    "\n",
    "# Plotting the prime numbers\n",
    "plt.figure(figsize=(10, 5))\n",
    "plt.plot(first_100_primes, marker='o', linestyle='-', color='b')\n",
    "plt.title('First 100 Prime Numbers')\n",
    "plt.xlabel('Index')\n",
    "plt.ylabel('Prime Number')\n",
    "plt.xticks(range(0, 100, 5))  # Set x-ticks for better readability\n",
    "plt.grid()\n",
    "plt.show()"
   ],
   "id": "260386722965ca7c",
   "outputs": [
    {
     "data": {
      "text/plain": [
       "<Figure size 1000x500 with 1 Axes>"
      ],
      "image/png": "[encoded data removed]"
     },
     "metadata": {},
     "output_type": "display_data"
    }
   ],
   "execution_count": 17
  },
  {
   "metadata": {},
   "cell_type": "markdown",
   "source": "# numPy",
   "id": "bdbeba4925740c4b"
  },
  {
   "metadata": {
    "ExecuteTime": {
     "end_time": "2024-10-30T08:35:30.044909Z",
     "start_time": "2024-10-30T08:35:30.042052Z"
    }
   },
   "cell_type": "code",
   "source": [
    "import numpy as np\n",
    "\n",
    "# 1. Create a numpy array of letters 'a' through 'j' and print dtype, shape, and size\n",
    "letter_array = np.array(['a', 'b', 'c', 'd', 'e', 'f', 'g', 'h', 'i', 'j'])\n",
    "print(\"Dtype:\", letter_array.dtype)\n",
    "print(\"Shape:\", letter_array.shape)\n",
    "print(\"Size:\", letter_array.size)"
   ],
   "id": "3337902abaddd893",
   "outputs": [
    {
     "name": "stdout",
     "output_type": "stream",
     "text": [
      "Dtype: <U1\n",
      "Shape: (10,)\n",
      "Size: 10\n"
     ]
    }
   ],
   "execution_count": 18
  },
  {
   "metadata": {
    "ExecuteTime": {
     "end_time": "2024-10-30T08:35:30.059510Z",
     "start_time": "2024-10-30T08:35:30.057577Z"
    }
   },
   "cell_type": "code",
   "source": [
    "# 2. Create a 3 x 4 ndarray full of zeros\n",
    "x = np.zeros((3, 4))\n",
    "print(\"\\n3 x 4 array of zeros:\\n\", x)"
   ],
   "id": "9aed4f8e1b8575fc",
   "outputs": [
    {
     "name": "stdout",
     "output_type": "stream",
     "text": [
      "\n",
      "3 x 4 array of zeros:\n",
      " [[0. 0. 0. 0.]\n",
      " [0. 0. 0. 0.]\n",
      " [0. 0. 0. 0.]]\n"
     ]
    }
   ],
   "execution_count": 19
  },
  {
   "metadata": {
    "ExecuteTime": {
     "end_time": "2024-10-30T08:35:30.075793Z",
     "start_time": "2024-10-30T08:35:30.073844Z"
    }
   },
   "cell_type": "code",
   "source": [
    "# 3. Create a 3 x 2 ndarray full of ones\n",
    "x = np.ones((3, 2))\n",
    "print(\"\\n3 x 2 array of ones:\\n\", x)"
   ],
   "id": "58ae22a41b997a1c",
   "outputs": [
    {
     "name": "stdout",
     "output_type": "stream",
     "text": [
      "\n",
      "3 x 2 array of ones:\n",
      " [[1. 1.]\n",
      " [1. 1.]\n",
      " [1. 1.]]\n"
     ]
    }
   ],
   "execution_count": 20
  },
  {
   "metadata": {
    "ExecuteTime": {
     "end_time": "2024-10-30T08:35:30.091986Z",
     "start_time": "2024-10-30T08:35:30.090221Z"
    }
   },
   "cell_type": "code",
   "source": [
    "# 4. Create a 2 x 3 ndarray full of fives\n",
    "x = np.full((2, 3), 5)\n",
    "print(\"\\n2 x 3 array of fives:\\n\", x)"
   ],
   "id": "430054d12e525cab",
   "outputs": [
    {
     "name": "stdout",
     "output_type": "stream",
     "text": [
      "\n",
      "2 x 3 array of fives:\n",
      " [[5 5 5]\n",
      " [5 5 5]]\n"
     ]
    }
   ],
   "execution_count": 21
  },
  {
   "metadata": {
    "ExecuteTime": {
     "end_time": "2024-10-30T08:35:30.107831Z",
     "start_time": "2024-10-30T08:35:30.106040Z"
    }
   },
   "cell_type": "code",
   "source": [
    "# 5. Create a 5 x 5 Identity matrix\n",
    "x = np.eye(5)\n",
    "print(\"\\n5 x 5 Identity matrix:\\n\", x)"
   ],
   "id": "14f57d474e117a87",
   "outputs": [
    {
     "name": "stdout",
     "output_type": "stream",
     "text": [
      "\n",
      "5 x 5 Identity matrix:\n",
      " [[1. 0. 0. 0. 0.]\n",
      " [0. 1. 0. 0. 0.]\n",
      " [0. 0. 1. 0. 0.]\n",
      " [0. 0. 0. 1. 0.]\n",
      " [0. 0. 0. 0. 1.]]\n"
     ]
    }
   ],
   "execution_count": 22
  },
  {
   "metadata": {
    "ExecuteTime": {
     "end_time": "2024-10-30T08:35:30.125234Z",
     "start_time": "2024-10-30T08:35:30.123213Z"
    }
   },
   "cell_type": "code",
   "source": [
    "# 6. Create a 4 x 4 diagonal matrix with numbers 10, 20, 30, and 50 on the main diagonal\n",
    "x = np.diag([10, 20, 30, 50])\n",
    "print(\"\\n4 x 4 diagonal matrix:\\n\", x)"
   ],
   "id": "384fc957a6a02ea4",
   "outputs": [
    {
     "name": "stdout",
     "output_type": "stream",
     "text": [
      "\n",
      "4 x 4 diagonal matrix:\n",
      " [[10  0  0  0]\n",
      " [ 0 20  0  0]\n",
      " [ 0  0 30  0]\n",
      " [ 0  0  0 50]]\n"
     ]
    }
   ],
   "execution_count": 23
  },
  {
   "metadata": {
    "ExecuteTime": {
     "end_time": "2024-10-30T08:35:30.141193Z",
     "start_time": "2024-10-30T08:35:30.139208Z"
    }
   },
   "cell_type": "code",
   "source": [
    "# 7. Create a rank 1 ndarray with sequential integers from 0 to 9\n",
    "x = np.arange(10)\n",
    "print(\"\\nRank 1 array from 0 to 9:\\n\", x)"
   ],
   "id": "f13cf095c50f695b",
   "outputs": [
    {
     "name": "stdout",
     "output_type": "stream",
     "text": [
      "\n",
      "Rank 1 array from 0 to 9:\n",
      " [0 1 2 3 4 5 6 7 8 9]\n"
     ]
    }
   ],
   "execution_count": 24
  },
  {
   "metadata": {
    "ExecuteTime": {
     "end_time": "2024-10-30T08:35:30.156570Z",
     "start_time": "2024-10-30T08:35:30.154748Z"
    }
   },
   "cell_type": "code",
   "source": [
    "# 8. Create a rank 1 ndarray with sequential integers from 4 to 9\n",
    "x = np.arange(4, 10)\n",
    "print(\"\\nRank 1 array from 4 to 9:\\n\", x)"
   ],
   "id": "4a79a3ea534961",
   "outputs": [
    {
     "name": "stdout",
     "output_type": "stream",
     "text": [
      "\n",
      "Rank 1 array from 4 to 9:\n",
      " [4 5 6 7 8 9]\n"
     ]
    }
   ],
   "execution_count": 25
  },
  {
   "metadata": {
    "ExecuteTime": {
     "end_time": "2024-10-30T08:35:30.173775Z",
     "start_time": "2024-10-30T08:35:30.171784Z"
    }
   },
   "cell_type": "code",
   "source": [
    "# 9. Create a rank 1 ndarray with 10 integers evenly spaced between 0 and 25\n",
    "x = np.linspace(0, 25, 10)\n",
    "print(\"Rank 1 array with 10 integers evenly spaced between 0 and 25:\\n\", x)"
   ],
   "id": "bf3d8733ad789325",
   "outputs": [
    {
     "name": "stdout",
     "output_type": "stream",
     "text": [
      "Rank 1 array with 10 integers evenly spaced between 0 and 25:\n",
      " [ 0.          2.77777778  5.55555556  8.33333333 11.11111111 13.88888889\n",
      " 16.66666667 19.44444444 22.22222222 25.        ]\n"
     ]
    }
   ],
   "execution_count": 26
  },
  {
   "metadata": {
    "ExecuteTime": {
     "end_time": "2024-10-30T08:35:30.192450Z",
     "start_time": "2024-10-30T08:35:30.190332Z"
    }
   },
   "cell_type": "code",
   "source": [
    "# 10. Create a rank 1 ndarray with 10 integers evenly spaced between 0 and 25, with 25 excluded\n",
    "x = np.linspace(0, 25, 10, endpoint=False)\n",
    "print(\"\\nRank 1 array with 10 integers evenly spaced between 0 and 25 (25 excluded):\\n\", x)"
   ],
   "id": "11daf8c28cd0a7e5",
   "outputs": [
    {
     "name": "stdout",
     "output_type": "stream",
     "text": [
      "\n",
      "Rank 1 array with 10 integers evenly spaced between 0 and 25 (25 excluded):\n",
      " [ 0.   2.5  5.   7.5 10.  12.5 15.  17.5 20.  22.5]\n"
     ]
    }
   ],
   "execution_count": 27
  },
  {
   "metadata": {
    "ExecuteTime": {
     "end_time": "2024-10-30T08:35:30.208133Z",
     "start_time": "2024-10-30T08:35:30.206081Z"
    }
   },
   "cell_type": "code",
   "source": [
    "# 11. Create a rank 1 ndarray with sequential integers from 0 to 19, then reshape into a 4 x 5 ndarray\n",
    "x = np.arange(20)\n",
    "x = np.reshape(x, (4, 5))\n",
    "print(\"\\n4 x 5 array reshaped from sequential integers 0 to 19:\\n\", x)"
   ],
   "id": "25604dcce0e07bce",
   "outputs": [
    {
     "name": "stdout",
     "output_type": "stream",
     "text": [
      "\n",
      "4 x 5 array reshaped from sequential integers 0 to 19:\n",
      " [[ 0  1  2  3  4]\n",
      " [ 5  6  7  8  9]\n",
      " [10 11 12 13 14]\n",
      " [15 16 17 18 19]]\n"
     ]
    }
   ],
   "execution_count": 28
  },
  {
   "metadata": {
    "ExecuteTime": {
     "end_time": "2024-10-30T08:35:30.223992Z",
     "start_time": "2024-10-30T08:35:30.221585Z"
    }
   },
   "cell_type": "code",
   "source": [
    "# Task 11: Create a 4 x 4 ndarray with consecutive even numbers from 2 to 32\n",
    "x = np.arange(2, 34, 2).reshape(4, 4)\n",
    "print(\"4 x 4 array with consecutive even numbers from 2 to 32:\\n\", x)"
   ],
   "id": "5516fb9e4d7ef0bc",
   "outputs": [
    {
     "name": "stdout",
     "output_type": "stream",
     "text": [
      "4 x 4 array with consecutive even numbers from 2 to 32:\n",
      " [[ 2  4  6  8]\n",
      " [10 12 14 16]\n",
      " [18 20 22 24]\n",
      " [26 28 30 32]]\n"
     ]
    }
   ],
   "execution_count": 29
  },
  {
   "metadata": {
    "ExecuteTime": {
     "end_time": "2024-10-30T08:35:30.240556Z",
     "start_time": "2024-10-30T08:35:30.238153Z"
    }
   },
   "cell_type": "code",
   "source": [
    "# Task 12: Create a 5 x 5 ndarray with integers from 0 to 24, and use Boolean indexing\n",
    "X = np.arange(25).reshape(5, 5)\n",
    "print(\"\\n5 x 5 array with integers from 0 to 24:\\n\", X)\n",
    "print(\"\\nElements in X greater than 10:\", X[X > 10])\n",
    "print(\"Elements in X between 10 and 17:\", X[(X > 10) & (X < 17)])"
   ],
   "id": "23f685f48410ecae",
   "outputs": [
    {
     "name": "stdout",
     "output_type": "stream",
     "text": [
      "\n",
      "5 x 5 array with integers from 0 to 24:\n",
      " [[ 0  1  2  3  4]\n",
      " [ 5  6  7  8  9]\n",
      " [10 11 12 13 14]\n",
      " [15 16 17 18 19]\n",
      " [20 21 22 23 24]]\n",
      "\n",
      "Elements in X greater than 10: [11 12 13 14 15 16 17 18 19 20 21 22 23 24]\n",
      "Elements in X between 10 and 17: [11 12 13 14 15 16]\n"
     ]
    }
   ],
   "execution_count": 30
  },
  {
   "metadata": {
    "ExecuteTime": {
     "end_time": "2024-10-30T08:35:30.257862Z",
     "start_time": "2024-10-30T08:35:30.255389Z"
    }
   },
   "cell_type": "code",
   "source": [
    "# Task 13: Create 2 ndarrays X and Y, and apply set operations\n",
    "x = np.array([1, 2, 3, 4, 5])\n",
    "y = np.array([6, 7, 2, 8, 4])\n",
    "\n",
    "print(\"\\nElements in both x and y:\", np.intersect1d(x, y))\n",
    "print(\"Elements in x that are not in y:\", np.setdiff1d(x, y))\n",
    "print(\"All elements of x and y:\", np.union1d(x, y))"
   ],
   "id": "ce61d015d1b0d145",
   "outputs": [
    {
     "name": "stdout",
     "output_type": "stream",
     "text": [
      "\n",
      "Elements in both x and y: [2 4]\n",
      "Elements in x that are not in y: [1 3 5]\n",
      "All elements of x and y: [1 2 3 4 5 6 7 8]\n"
     ]
    }
   ],
   "execution_count": 31
  },
  {
   "metadata": {
    "ExecuteTime": {
     "end_time": "2024-10-30T08:35:30.273888Z",
     "start_time": "2024-10-30T08:35:30.271853Z"
    }
   },
   "cell_type": "code",
   "source": [
    "# Create a 5 x 5 ndarray with consecutive integers from 1 to 25\n",
    "X = np.arange(1, 26).reshape(5, 5)\n",
    "print(\"5 x 5 array with integers from 1 to 25:\\n\", X)\n",
    "\n",
    "# Use Boolean indexing to pick out only the odd numbers in the array\n",
    "y = X[X % 2 != 0]\n",
    "print(\"\\nOdd numbers in the array:\\n\", y)"
   ],
   "id": "f24cbc8d9149c791",
   "outputs": [
    {
     "name": "stdout",
     "output_type": "stream",
     "text": [
      "5 x 5 array with integers from 1 to 25:\n",
      " [[ 1  2  3  4  5]\n",
      " [ 6  7  8  9 10]\n",
      " [11 12 13 14 15]\n",
      " [16 17 18 19 20]\n",
      " [21 22 23 24 25]]\n",
      "\n",
      "Odd numbers in the array:\n",
      " [ 1  3  5  7  9 11 13 15 17 19 21 23 25]\n"
     ]
    }
   ],
   "execution_count": 32
  },
  {
   "metadata": {
    "ExecuteTime": {
     "end_time": "2024-10-30T08:35:30.287837Z",
     "start_time": "2024-10-30T08:35:30.286070Z"
    }
   },
   "cell_type": "code",
   "source": [
    "# Given lists of planets and their distances from the Sun (in 10^6 km)\n",
    "planets = ['Earth', 'Saturn', 'Venus', 'Mars', 'Jupiter']\n",
    "distances_from_sun = [149.6, 1433.5, 108.2, 227.9, 778.6]"
   ],
   "id": "2176d7c930fe2dd6",
   "outputs": [],
   "execution_count": 33
  },
  {
   "metadata": {
    "ExecuteTime": {
     "end_time": "2024-10-30T08:35:35.873876Z",
     "start_time": "2024-10-30T08:35:30.295489Z"
    }
   },
   "cell_type": "code",
   "source": [
    "# Prompt for an integer input N to create an array of even numbers from 0 to N\n",
    "N = int(input(\"Enter an integer N to create an array of even numbers from 0 to N (inclusive): \"))\n",
    "even_numbers = np.arange(0, N+1, 2)\n",
    "print(\"\\nEven numbers from 0 to\", N, \":\\n\", even_numbers)"
   ],
   "id": "4dd9723265d45d79",
   "outputs": [
    {
     "name": "stdout",
     "output_type": "stream",
     "text": [
      "\n",
      "Even numbers from 0 to 12 :\n",
      " [ 0  2  4  6  8 10 12]\n"
     ]
    }
   ],
   "execution_count": 34
  },
  {
   "metadata": {
    "ExecuteTime": {
     "end_time": "2024-10-30T08:54:22.376100Z",
     "start_time": "2024-10-30T08:54:19.892759Z"
    }
   },
   "cell_type": "code",
   "source": [
    "# Prompt for an integer input N to create an array of odd numbers from 0 to N\n",
    "N = int(input(\"\\nEnter an integer N to create an array of odd numbers from 0 to N (inclusive): \"))\n",
    "odd_numbers = np.arange(1, N+1, 2)\n",
    "print(\"\\nOdd numbers from 0 to\", N, \":\\n\", odd_numbers)"
   ],
   "id": "7df1ab70f223ea62",
   "outputs": [
    {
     "name": "stdout",
     "output_type": "stream",
     "text": [
      "\n",
      "Odd numbers from 0 to 12 :\n",
      " [ 1  3  5  7  9 11]\n"
     ]
    }
   ],
   "execution_count": 36
  },
  {
   "metadata": {},
   "cell_type": "code",
   "source": [
    "X = np.arange(25).reshape(5, 5)\n",
    "print(\"\\n5 x 5 array with integers from 0 to 24:\\n\", X)\n",
    "x=np.update"
   ],
   "id": "67ecf1c29fbbac96",
   "outputs": [],
   "execution_count": null
  },
  {
   "metadata": {},
   "cell_type": "markdown",
   "source": "# Pandas\n",
   "id": "ee755860b91e042c"
  },
  {
   "metadata": {
    "ExecuteTime": {
     "end_time": "2024-11-05T23:26:14.764241Z",
     "start_time": "2024-11-05T23:26:14.421542Z"
    }
   },
   "cell_type": "code",
   "source": [
    "import pandas as pd\n",
    "# Creating a DataFrame\n",
    "data = {\n",
    "    'Name': ['Alice', 'Bob', 'Charlie'],\n",
    "    'Age': [24, 27, 22],\n",
    "    'City': ['New York', 'Los Angeles', 'Chicago']\n",
    "}\n",
    "df = pd.DataFrame(data)"
   ],
   "id": "e61cb2dde0b502a3",
   "outputs": [],
   "execution_count": 1
  },
  {
   "metadata": {
    "ExecuteTime": {
     "end_time": "2024-11-05T23:26:16.213820Z",
     "start_time": "2024-11-05T23:26:16.208839Z"
    }
   },
   "cell_type": "code",
   "source": [
    "# Display the DataFrame\n",
    "print(df)"
   ],
   "id": "214e903e5f524a79",
   "outputs": [
    {
     "name": "stdout",
     "output_type": "stream",
     "text": [
      "      Name  Age         City\n",
      "0    Alice   24     New York\n",
      "1      Bob   27  Los Angeles\n",
      "2  Charlie   22      Chicago\n"
     ]
    }
   ],
   "execution_count": 2
  },
  {
   "metadata": {
    "ExecuteTime": {
     "end_time": "2024-11-05T23:26:19.444386Z",
     "start_time": "2024-11-05T23:26:19.439900Z"
    }
   },
   "cell_type": "code",
   "source": [
    "# Accessing data\n",
    "print(df['Name'])  # Access a specific column"
   ],
   "id": "d6f12e735cfb649d",
   "outputs": [
    {
     "name": "stdout",
     "output_type": "stream",
     "text": [
      "0      Alice\n",
      "1        Bob\n",
      "2    Charlie\n",
      "Name: Name, dtype: object\n"
     ]
    }
   ],
   "execution_count": 3
  },
  {
   "metadata": {
    "ExecuteTime": {
     "end_time": "2024-11-05T23:26:21.305941Z",
     "start_time": "2024-11-05T23:26:21.296570Z"
    }
   },
   "cell_type": "code",
   "source": [
    "# Basic statistics\n",
    "print(df.describe())  # Get statistical summary"
   ],
   "id": "a0c7450f740dbaa4",
   "outputs": [
    {
     "name": "stdout",
     "output_type": "stream",
     "text": [
      "             Age\n",
      "count   3.000000\n",
      "mean   24.333333\n",
      "std     2.516611\n",
      "min    22.000000\n",
      "25%    23.000000\n",
      "50%    24.000000\n",
      "75%    25.500000\n",
      "max    27.000000\n"
     ]
    }
   ],
   "execution_count": 4
  },
  {
   "metadata": {},
   "cell_type": "code",
   "source": [
    "# Filtering\n",
    "print(df[df['Age'] > 23])"
   ],
   "id": "ae77a764bd3fa1e2",
   "outputs": [],
   "execution_count": null
  },
  {
   "metadata": {
    "ExecuteTime": {
     "end_time": "2024-11-05T23:26:23.190735Z",
     "start_time": "2024-11-05T23:26:23.183642Z"
    }
   },
   "cell_type": "code",
   "outputs": [
    {
     "name": "stdout",
     "output_type": "stream",
     "text": [
      "    Name  Age         City\n",
      "0  Alice   24     New York\n",
      "1    Bob   27  Los Angeles\n"
     ]
    }
   ],
   "execution_count": 5,
   "source": " # Filter rows where Age > 23",
   "id": "424b94ca228c665b"
  }
 ],
 "metadata": {
  "kernelspec": {
   "display_name": "Python 3",
   "language": "python",
   "name": "python3"
  },
  "language_info": {
   "codemirror_mode": {
    "name": "ipython",
    "version": 2
   },
   "file_extension": ".py",
   "mimetype": "text/x-python",
   "name": "python",
   "nbconvert_exporter": "python",
   "pygments_lexer": "ipython2",
   "version": "2.7.6"
  }
 },
 "nbformat": 4,
 "nbformat_minor": 5
}
