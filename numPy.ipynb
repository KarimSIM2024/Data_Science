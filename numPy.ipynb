{
 "cells": [
  {
   "cell_type": "code",
   "id": "initial_id",
   "metadata": {
    "collapsed": true,
    "ExecuteTime": {
     "end_time": "2024-11-06T00:40:52.930627Z",
     "start_time": "2024-11-06T00:40:52.919333Z"
    }
   },
   "source": [
    "import numpy as np\n",
    "a=np.array([1,2,3,4,5,6,7,8])\n",
    "a.size"
   ],
   "outputs": [
    {
     "data": {
      "text/plain": [
       "8"
      ]
     },
     "execution_count": 2,
     "metadata": {},
     "output_type": "execute_result"
    }
   ],
   "execution_count": 2
  },
  {
   "metadata": {
    "ExecuteTime": {
     "end_time": "2024-11-06T00:41:04.745418Z",
     "start_time": "2024-11-06T00:41:04.731925Z"
    }
   },
   "cell_type": "code",
   "source": "a.ndim",
   "id": "b46fa805a4edf22a",
   "outputs": [
    {
     "data": {
      "text/plain": [
       "1"
      ]
     },
     "execution_count": 3,
     "metadata": {},
     "output_type": "execute_result"
    }
   ],
   "execution_count": 3
  },
  {
   "metadata": {
    "ExecuteTime": {
     "end_time": "2024-11-06T00:41:07.741464Z",
     "start_time": "2024-11-06T00:41:07.735383Z"
    }
   },
   "cell_type": "code",
   "source": "a.shape",
   "id": "4e00805419400a9f",
   "outputs": [
    {
     "data": {
      "text/plain": [
       "(8,)"
      ]
     },
     "execution_count": 4,
     "metadata": {},
     "output_type": "execute_result"
    }
   ],
   "execution_count": 4
  },
  {
   "metadata": {
    "ExecuteTime": {
     "end_time": "2024-11-06T00:42:43.805295Z",
     "start_time": "2024-11-06T00:42:43.800430Z"
    }
   },
   "cell_type": "code",
   "source": [
    "u=np.array([1,2])\n",
    "v=np.array([3,4])"
   ],
   "id": "61bcfdb9f1d79e24",
   "outputs": [],
   "execution_count": 8
  },
  {
   "metadata": {
    "ExecuteTime": {
     "end_time": "2024-11-06T00:42:45.233121Z",
     "start_time": "2024-11-06T00:42:45.229402Z"
    }
   },
   "cell_type": "code",
   "source": "u+v",
   "id": "e6100b03291e894c",
   "outputs": [
    {
     "data": {
      "text/plain": [
       "array([4, 6])"
      ]
     },
     "execution_count": 9,
     "metadata": {},
     "output_type": "execute_result"
    }
   ],
   "execution_count": 9
  },
  {
   "metadata": {
    "ExecuteTime": {
     "end_time": "2024-11-06T00:42:50.259703Z",
     "start_time": "2024-11-06T00:42:50.247057Z"
    }
   },
   "cell_type": "code",
   "source": "u*v",
   "id": "b09b409783c0859a",
   "outputs": [
    {
     "data": {
      "text/plain": [
       "array([3, 8])"
      ]
     },
     "execution_count": 10,
     "metadata": {},
     "output_type": "execute_result"
    }
   ],
   "execution_count": 10
  },
  {
   "metadata": {
    "ExecuteTime": {
     "end_time": "2024-11-06T00:42:57.201439Z",
     "start_time": "2024-11-06T00:42:57.182308Z"
    }
   },
   "cell_type": "code",
   "source": "u*2",
   "id": "7bffc333a1c7216f",
   "outputs": [
    {
     "data": {
      "text/plain": [
       "array([2, 4])"
      ]
     },
     "execution_count": 11,
     "metadata": {},
     "output_type": "execute_result"
    }
   ],
   "execution_count": 11
  },
  {
   "metadata": {
    "ExecuteTime": {
     "end_time": "2024-11-06T00:43:04.576785Z",
     "start_time": "2024-11-06T00:43:04.556870Z"
    }
   },
   "cell_type": "code",
   "source": "u-v",
   "id": "73bce800361085a5",
   "outputs": [
    {
     "data": {
      "text/plain": [
       "array([-2, -2])"
      ]
     },
     "execution_count": 12,
     "metadata": {},
     "output_type": "execute_result"
    }
   ],
   "execution_count": 12
  },
  {
   "metadata": {
    "ExecuteTime": {
     "end_time": "2024-11-06T00:43:11.533261Z",
     "start_time": "2024-11-06T00:43:11.522893Z"
    }
   },
   "cell_type": "code",
   "source": "v-u",
   "id": "b440d9ea93a0f1b8",
   "outputs": [
    {
     "data": {
      "text/plain": [
       "array([2, 2])"
      ]
     },
     "execution_count": 13,
     "metadata": {},
     "output_type": "execute_result"
    }
   ],
   "execution_count": 13
  },
  {
   "metadata": {
    "ExecuteTime": {
     "end_time": "2024-11-06T00:43:39.144009Z",
     "start_time": "2024-11-06T00:43:39.127978Z"
    }
   },
   "cell_type": "code",
   "source": "np.dot(u,v)",
   "id": "8837d499af883f5a",
   "outputs": [
    {
     "data": {
      "text/plain": [
       "np.int64(11)"
      ]
     },
     "execution_count": 14,
     "metadata": {},
     "output_type": "execute_result"
    }
   ],
   "execution_count": 14
  },
  {
   "metadata": {
    "ExecuteTime": {
     "end_time": "2024-11-06T00:43:56.458358Z",
     "start_time": "2024-11-06T00:43:56.444639Z"
    }
   },
   "cell_type": "code",
   "source": "a.mean()",
   "id": "47dd0e1aa29352a1",
   "outputs": [
    {
     "data": {
      "text/plain": [
       "np.float64(4.5)"
      ]
     },
     "execution_count": 15,
     "metadata": {},
     "output_type": "execute_result"
    }
   ],
   "execution_count": 15
  },
  {
   "metadata": {
    "ExecuteTime": {
     "end_time": "2024-11-06T00:44:22.950569Z",
     "start_time": "2024-11-06T00:44:22.939253Z"
    }
   },
   "cell_type": "code",
   "source": "a.max()",
   "id": "d8d49f347cf1ba9f",
   "outputs": [
    {
     "data": {
      "text/plain": [
       "np.int64(8)"
      ]
     },
     "execution_count": 18,
     "metadata": {},
     "output_type": "execute_result"
    }
   ],
   "execution_count": 18
  },
  {
   "metadata": {},
   "cell_type": "code",
   "source": "a.sort()",
   "id": "ae77bb00c3537122",
   "outputs": [],
   "execution_count": null
  },
  {
   "metadata": {
    "ExecuteTime": {
     "end_time": "2024-11-06T00:45:17.506166Z",
     "start_time": "2024-11-06T00:45:17.484518Z"
    }
   },
   "cell_type": "code",
   "source": "a.std()",
   "id": "e3a6a0d7c8b3d59f",
   "outputs": [
    {
     "data": {
      "text/plain": [
       "np.float64(2.29128784747792)"
      ]
     },
     "execution_count": 20,
     "metadata": {},
     "output_type": "execute_result"
    }
   ],
   "execution_count": 20
  },
  {
   "metadata": {
    "ExecuteTime": {
     "end_time": "2024-11-06T00:44:56.249157Z",
     "start_time": "2024-11-06T00:44:56.225816Z"
    }
   },
   "cell_type": "code",
   "source": [
    "pi=np.pi\n",
    "pi"
   ],
   "id": "99a7ceb047307acc",
   "outputs": [
    {
     "data": {
      "text/plain": [
       "3.141592653589793"
      ]
     },
     "execution_count": 19,
     "metadata": {},
     "output_type": "execute_result"
    }
   ],
   "execution_count": 19
  },
  {
   "metadata": {
    "ExecuteTime": {
     "end_time": "2024-11-06T00:45:49.636915Z",
     "start_time": "2024-11-06T00:45:49.627472Z"
    }
   },
   "cell_type": "code",
   "source": "np.sin(2*pi)",
   "id": "544ae7ede00edeab",
   "outputs": [
    {
     "data": {
      "text/plain": [
       "np.float64(-2.4492935982947064e-16)"
      ]
     },
     "execution_count": 21,
     "metadata": {},
     "output_type": "execute_result"
    }
   ],
   "execution_count": 21
  },
  {
   "metadata": {
    "ExecuteTime": {
     "end_time": "2024-11-06T00:46:49.746953Z",
     "start_time": "2024-11-06T00:46:49.734728Z"
    }
   },
   "cell_type": "code",
   "source": [
    "a=np.array([[1,2,3], [ 4,5,6], [ 7,8,9]])\n",
    "a.size"
   ],
   "id": "930f1fde1e58f99d",
   "outputs": [
    {
     "data": {
      "text/plain": [
       "9"
      ]
     },
     "execution_count": 22,
     "metadata": {},
     "output_type": "execute_result"
    }
   ],
   "execution_count": 22
  },
  {
   "metadata": {
    "ExecuteTime": {
     "end_time": "2024-11-06T00:47:04.324854Z",
     "start_time": "2024-11-06T00:47:04.311434Z"
    }
   },
   "cell_type": "code",
   "source": "a.ndim",
   "id": "71650e641a44ecf5",
   "outputs": [
    {
     "data": {
      "text/plain": [
       "2"
      ]
     },
     "execution_count": 24,
     "metadata": {},
     "output_type": "execute_result"
    }
   ],
   "execution_count": 24
  },
  {
   "metadata": {
    "ExecuteTime": {
     "end_time": "2024-11-06T00:47:14.402156Z",
     "start_time": "2024-11-06T00:47:14.395727Z"
    }
   },
   "cell_type": "code",
   "source": "a.shape",
   "id": "6d8c93ca61e16da4",
   "outputs": [
    {
     "data": {
      "text/plain": [
       "(3, 3)"
      ]
     },
     "execution_count": 25,
     "metadata": {},
     "output_type": "execute_result"
    }
   ],
   "execution_count": 25
  },
  {
   "metadata": {
    "ExecuteTime": {
     "end_time": "2024-11-06T00:47:50.649827Z",
     "start_time": "2024-11-06T00:47:50.630600Z"
    }
   },
   "cell_type": "code",
   "source": "a[2]",
   "id": "edf10d85b3263654",
   "outputs": [
    {
     "data": {
      "text/plain": [
       "array([7, 8, 9])"
      ]
     },
     "execution_count": 26,
     "metadata": {},
     "output_type": "execute_result"
    }
   ],
   "execution_count": 26
  },
  {
   "metadata": {
    "ExecuteTime": {
     "end_time": "2024-11-06T00:48:02.018491Z",
     "start_time": "2024-11-06T00:48:02.005847Z"
    }
   },
   "cell_type": "code",
   "source": "a[2][0]",
   "id": "bb71a1d53adb1efb",
   "outputs": [
    {
     "data": {
      "text/plain": [
       "np.int64(7)"
      ]
     },
     "execution_count": 27,
     "metadata": {},
     "output_type": "execute_result"
    }
   ],
   "execution_count": 27
  },
  {
   "metadata": {
    "ExecuteTime": {
     "end_time": "2024-11-06T00:48:42.644626Z",
     "start_time": "2024-11-06T00:48:42.630197Z"
    }
   },
   "cell_type": "code",
   "source": "a[0:2,2]",
   "id": "95f10db2a3add656",
   "outputs": [
    {
     "data": {
      "text/plain": [
       "array([3, 6])"
      ]
     },
     "execution_count": 29,
     "metadata": {},
     "output_type": "execute_result"
    }
   ],
   "execution_count": 29
  },
  {
   "metadata": {
    "ExecuteTime": {
     "end_time": "2024-11-06T00:49:24.906884Z",
     "start_time": "2024-11-06T00:49:24.891548Z"
    }
   },
   "cell_type": "code",
   "source": "b=np.array([[1,2,3], [ 4,5,6], [ 7,8,9]])",
   "id": "40dd4ff913e23651",
   "outputs": [],
   "execution_count": 30
  },
  {
   "metadata": {
    "ExecuteTime": {
     "end_time": "2024-11-06T00:49:30.188638Z",
     "start_time": "2024-11-06T00:49:30.170865Z"
    }
   },
   "cell_type": "code",
   "source": "a+b",
   "id": "a2f7b19776bc2fe9",
   "outputs": [
    {
     "data": {
      "text/plain": [
       "array([[ 2,  4,  6],\n",
       "       [ 8, 10, 12],\n",
       "       [14, 16, 18]])"
      ]
     },
     "execution_count": 31,
     "metadata": {},
     "output_type": "execute_result"
    }
   ],
   "execution_count": 31
  },
  {
   "metadata": {
    "ExecuteTime": {
     "end_time": "2024-11-06T00:49:50.304900Z",
     "start_time": "2024-11-06T00:49:50.285633Z"
    }
   },
   "cell_type": "code",
   "source": "np.dot(a, b)",
   "id": "1c365f42c337c8c4",
   "outputs": [
    {
     "data": {
      "text/plain": [
       "array([[ 30,  36,  42],\n",
       "       [ 66,  81,  96],\n",
       "       [102, 126, 150]])"
      ]
     },
     "execution_count": 32,
     "metadata": {},
     "output_type": "execute_result"
    }
   ],
   "execution_count": 32
  },
  {
   "metadata": {
    "ExecuteTime": {
     "end_time": "2024-11-06T00:49:55.210208Z",
     "start_time": "2024-11-06T00:49:55.201233Z"
    }
   },
   "cell_type": "code",
   "source": "a*b",
   "id": "4f5449f71d2d27ae",
   "outputs": [
    {
     "data": {
      "text/plain": [
       "array([[ 1,  4,  9],\n",
       "       [16, 25, 36],\n",
       "       [49, 64, 81]])"
      ]
     },
     "execution_count": 33,
     "metadata": {},
     "output_type": "execute_result"
    }
   ],
   "execution_count": 33
  },
  {
   "metadata": {
    "ExecuteTime": {
     "end_time": "2024-11-06T01:01:38.836445Z",
     "start_time": "2024-11-06T01:01:38.792138Z"
    }
   },
   "cell_type": "code",
   "source": "a+10",
   "id": "921a2a91af32b7b8",
   "outputs": [
    {
     "data": {
      "text/plain": [
       "array([[11, 12, 13],\n",
       "       [14, 15, 16],\n",
       "       [17, 18, 19]])"
      ]
     },
     "execution_count": 34,
     "metadata": {},
     "output_type": "execute_result"
    }
   ],
   "execution_count": 34
  },
  {
   "metadata": {
    "ExecuteTime": {
     "end_time": "2024-11-06T01:02:18.287828Z",
     "start_time": "2024-11-06T01:02:18.272773Z"
    }
   },
   "cell_type": "code",
   "source": [
    "# Element-wise operations\n",
    "arr = np.array([1, 2, 3, 4])\n",
    "print(arr + 10)  # Adds 10 to each element: [11, 12, 13, 14]"
   ],
   "id": "e10ffa54ca662c52",
   "outputs": [
    {
     "name": "stdout",
     "output_type": "stream",
     "text": [
      "[11 12 13 14]\n"
     ]
    }
   ],
   "execution_count": 35
  },
  {
   "metadata": {
    "ExecuteTime": {
     "end_time": "2024-11-06T01:02:34.232657Z",
     "start_time": "2024-11-06T01:02:34.223800Z"
    }
   },
   "cell_type": "code",
   "source": [
    "# Reshaping the array\n",
    "arr2d = np.arange(6).reshape(2, 3)\n",
    "print(arr2d)"
   ],
   "id": "997416a6d46dbb3d",
   "outputs": [
    {
     "name": "stdout",
     "output_type": "stream",
     "text": [
      "[[0 1 2]\n",
      " [3 4 5]]\n"
     ]
    }
   ],
   "execution_count": 37
  },
  {
   "metadata": {},
   "cell_type": "code",
   "outputs": [],
   "execution_count": null,
   "source": "",
   "id": "9ab036048b4469cb"
  }
 ],
 "metadata": {
  "kernelspec": {
   "display_name": "Python 3",
   "language": "python",
   "name": "python3"
  },
  "language_info": {
   "codemirror_mode": {
    "name": "ipython",
    "version": 2
   },
   "file_extension": ".py",
   "mimetype": "text/x-python",
   "name": "python",
   "nbconvert_exporter": "python",
   "pygments_lexer": "ipython2",
   "version": "2.7.6"
  }
 },
 "nbformat": 4,
 "nbformat_minor": 5
}
