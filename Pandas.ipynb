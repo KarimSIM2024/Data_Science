{
 "cells": [
  {
   "metadata": {},
   "cell_type": "markdown",
   "source": "# Pandas",
   "id": "b11b41df0a95c6e2"
  },
  {
   "metadata": {
    "ExecuteTime": {
     "end_time": "2024-11-05T23:50:05.458309Z",
     "start_time": "2024-11-05T23:50:05.434852Z"
    }
   },
   "cell_type": "code",
   "source": [
    "import numpy as np\n",
    "\n",
    "with open (\"/Users/karim/PycharmProjects/JupyterProject1/hello.txt\",\"r\") as file1:\n",
    "    file_data=file1.read()\n",
    "    print(file_data)\n"
   ],
   "id": "46c5336a858f6083",
   "outputs": [
    {
     "name": "stdout",
     "output_type": "stream",
     "text": [
      "hello\n",
      "my name is karim\n",
      "1234\n",
      "#!@$%^&*\n",
      "9999999\n"
     ]
    }
   ],
   "execution_count": 12
  },
  {
   "metadata": {
    "ExecuteTime": {
     "end_time": "2024-11-05T23:54:21.950352Z",
     "start_time": "2024-11-05T23:54:21.934727Z"
    }
   },
   "cell_type": "code",
   "source": [
    "with open (\"/Users/karim/PycharmProjects/JupyterProject1/hello.txt\",\"r\") as file1:\n",
    "    file_data=file1.readlines()\n",
    "    print(file_data)\n",
    "    print(file_data[1])\n",
    "    print(file_data[4])\n",
    "    print(file_data[3])"
   ],
   "id": "7fe7c9706db4b817",
   "outputs": [
    {
     "name": "stdout",
     "output_type": "stream",
     "text": [
      "['hello\\n', 'my name is karim\\n', '1234\\n', '#!@$%^&*\\n', '9999999']\n",
      "my name is karim\n",
      "\n",
      "9999999\n",
      "#!@$%^&*\n",
      "\n"
     ]
    }
   ],
   "execution_count": 21
  },
  {
   "metadata": {
    "ExecuteTime": {
     "end_time": "2024-11-06T00:00:10.134764Z",
     "start_time": "2024-11-06T00:00:10.121634Z"
    }
   },
   "cell_type": "code",
   "source": [
    "with open (\"/Users/karim/PycharmProjects/JupyterProject1/hello.txt\",\"w\") as file1:\n",
    "    file_data=file1.write(\"New World!\")\n",
    "\n",
    "with open (\"/Users/karim/PycharmProjects/JupyterProject1/hello.txt\",\"r\") as file2:\n",
    "    file2_data=file2.readlines()\n",
    "    print(file_data)\n",
    "\n"
   ],
   "id": "ba794f6d8af7dd95",
   "outputs": [
    {
     "name": "stdout",
     "output_type": "stream",
     "text": [
      "10\n"
     ]
    }
   ],
   "execution_count": 32
  },
  {
   "metadata": {
    "ExecuteTime": {
     "end_time": "2024-11-06T00:00:14.267662Z",
     "start_time": "2024-11-06T00:00:14.258763Z"
    }
   },
   "cell_type": "code",
   "source": [
    "with open (\"/Users/karim/PycharmProjects/JupyterProject1/hello.txt\",\"a\") as file1:\n",
    "    file_data=file1.write(\"\\nHello World!\")"
   ],
   "id": "f6159014e353b1b8",
   "outputs": [],
   "execution_count": 33
  },
  {
   "metadata": {
    "ExecuteTime": {
     "end_time": "2024-11-06T00:23:18.169035Z",
     "start_time": "2024-11-06T00:23:18.130886Z"
    }
   },
   "cell_type": "code",
   "source": [
    "import pandas as pd\n",
    "df = pd.read_csv(\"/Users/karim/Downloads/color_srgb.csv\")\n",
    "df"
   ],
   "id": "fdb8fd7e922e7915",
   "outputs": [
    {
     "data": {
      "text/plain": [
       "       Name      HEX               RGB\n",
       "0     White  #FFFFFF  rgb(100,100,100)\n",
       "1    Silver  #C0C0C0     rgb(75,75,75)\n",
       "2      Gray  #808080     rgb(50,50,50)\n",
       "3     Black  #000000        rgb(0,0,0)\n",
       "4       Red  #FF0000      rgb(100,0,0)\n",
       "5    Maroon  #800000       rgb(50,0,0)\n",
       "6    Yellow  #FFFF00    rgb(100,100,0)\n",
       "7     Olive  #808000      rgb(50,50,0)\n",
       "8      Lime  #00FF00      rgb(0,100,0)\n",
       "9     Green  #008000       rgb(0,50,0)\n",
       "10     Aqua  #00FFFF    rgb(0,100,100)\n",
       "11     Teal  #008080      rgb(0,50,50)\n",
       "12     Blue  #0000FF      rgb(0,0,100)\n",
       "13     Navy  #000080       rgb(0,0,50)\n",
       "14  Fuchsia  #FF00FF    rgb(100,0,100)\n",
       "15   Purple  #800080      rgb(50,0,50)"
      ],
      "text/html": [
       "<div>\n",
       "<style scoped>\n",
       "    .dataframe tbody tr th:only-of-type {\n",
       "        vertical-align: middle;\n",
       "    }\n",
       "\n",
       "    .dataframe tbody tr th {\n",
       "        vertical-align: top;\n",
       "    }\n",
       "\n",
       "    .dataframe thead th {\n",
       "        text-align: right;\n",
       "    }\n",
       "</style>\n",
       "<table border=\"1\" class=\"dataframe\">\n",
       "  <thead>\n",
       "    <tr style=\"text-align: right;\">\n",
       "      <th></th>\n",
       "      <th>Name</th>\n",
       "      <th>HEX</th>\n",
       "      <th>RGB</th>\n",
       "    </tr>\n",
       "  </thead>\n",
       "  <tbody>\n",
       "    <tr>\n",
       "      <th>0</th>\n",
       "      <td>White</td>\n",
       "      <td>#FFFFFF</td>\n",
       "      <td>rgb(100,100,100)</td>\n",
       "    </tr>\n",
       "    <tr>\n",
       "      <th>1</th>\n",
       "      <td>Silver</td>\n",
       "      <td>#C0C0C0</td>\n",
       "      <td>rgb(75,75,75)</td>\n",
       "    </tr>\n",
       "    <tr>\n",
       "      <th>2</th>\n",
       "      <td>Gray</td>\n",
       "      <td>#808080</td>\n",
       "      <td>rgb(50,50,50)</td>\n",
       "    </tr>\n",
       "    <tr>\n",
       "      <th>3</th>\n",
       "      <td>Black</td>\n",
       "      <td>#000000</td>\n",
       "      <td>rgb(0,0,0)</td>\n",
       "    </tr>\n",
       "    <tr>\n",
       "      <th>4</th>\n",
       "      <td>Red</td>\n",
       "      <td>#FF0000</td>\n",
       "      <td>rgb(100,0,0)</td>\n",
       "    </tr>\n",
       "    <tr>\n",
       "      <th>5</th>\n",
       "      <td>Maroon</td>\n",
       "      <td>#800000</td>\n",
       "      <td>rgb(50,0,0)</td>\n",
       "    </tr>\n",
       "    <tr>\n",
       "      <th>6</th>\n",
       "      <td>Yellow</td>\n",
       "      <td>#FFFF00</td>\n",
       "      <td>rgb(100,100,0)</td>\n",
       "    </tr>\n",
       "    <tr>\n",
       "      <th>7</th>\n",
       "      <td>Olive</td>\n",
       "      <td>#808000</td>\n",
       "      <td>rgb(50,50,0)</td>\n",
       "    </tr>\n",
       "    <tr>\n",
       "      <th>8</th>\n",
       "      <td>Lime</td>\n",
       "      <td>#00FF00</td>\n",
       "      <td>rgb(0,100,0)</td>\n",
       "    </tr>\n",
       "    <tr>\n",
       "      <th>9</th>\n",
       "      <td>Green</td>\n",
       "      <td>#008000</td>\n",
       "      <td>rgb(0,50,0)</td>\n",
       "    </tr>\n",
       "    <tr>\n",
       "      <th>10</th>\n",
       "      <td>Aqua</td>\n",
       "      <td>#00FFFF</td>\n",
       "      <td>rgb(0,100,100)</td>\n",
       "    </tr>\n",
       "    <tr>\n",
       "      <th>11</th>\n",
       "      <td>Teal</td>\n",
       "      <td>#008080</td>\n",
       "      <td>rgb(0,50,50)</td>\n",
       "    </tr>\n",
       "    <tr>\n",
       "      <th>12</th>\n",
       "      <td>Blue</td>\n",
       "      <td>#0000FF</td>\n",
       "      <td>rgb(0,0,100)</td>\n",
       "    </tr>\n",
       "    <tr>\n",
       "      <th>13</th>\n",
       "      <td>Navy</td>\n",
       "      <td>#000080</td>\n",
       "      <td>rgb(0,0,50)</td>\n",
       "    </tr>\n",
       "    <tr>\n",
       "      <th>14</th>\n",
       "      <td>Fuchsia</td>\n",
       "      <td>#FF00FF</td>\n",
       "      <td>rgb(100,0,100)</td>\n",
       "    </tr>\n",
       "    <tr>\n",
       "      <th>15</th>\n",
       "      <td>Purple</td>\n",
       "      <td>#800080</td>\n",
       "      <td>rgb(50,0,50)</td>\n",
       "    </tr>\n",
       "  </tbody>\n",
       "</table>\n",
       "</div>"
      ]
     },
     "execution_count": 52,
     "metadata": {},
     "output_type": "execute_result"
    }
   ],
   "execution_count": 52
  },
  {
   "metadata": {
    "ExecuteTime": {
     "end_time": "2024-11-06T00:23:21.242490Z",
     "start_time": "2024-11-06T00:23:21.226661Z"
    }
   },
   "cell_type": "code",
   "source": [
    "df = pd.read_csv(\"/Users/karim/Downloads/color_srgb.csv\",index_col=0)\n",
    "df"
   ],
   "id": "f995a6d4c550d401",
   "outputs": [
    {
     "data": {
      "text/plain": [
       "             HEX               RGB\n",
       "Name                              \n",
       "White    #FFFFFF  rgb(100,100,100)\n",
       "Silver   #C0C0C0     rgb(75,75,75)\n",
       "Gray     #808080     rgb(50,50,50)\n",
       "Black    #000000        rgb(0,0,0)\n",
       "Red      #FF0000      rgb(100,0,0)\n",
       "Maroon   #800000       rgb(50,0,0)\n",
       "Yellow   #FFFF00    rgb(100,100,0)\n",
       "Olive    #808000      rgb(50,50,0)\n",
       "Lime     #00FF00      rgb(0,100,0)\n",
       "Green    #008000       rgb(0,50,0)\n",
       "Aqua     #00FFFF    rgb(0,100,100)\n",
       "Teal     #008080      rgb(0,50,50)\n",
       "Blue     #0000FF      rgb(0,0,100)\n",
       "Navy     #000080       rgb(0,0,50)\n",
       "Fuchsia  #FF00FF    rgb(100,0,100)\n",
       "Purple   #800080      rgb(50,0,50)"
      ],
      "text/html": [
       "<div>\n",
       "<style scoped>\n",
       "    .dataframe tbody tr th:only-of-type {\n",
       "        vertical-align: middle;\n",
       "    }\n",
       "\n",
       "    .dataframe tbody tr th {\n",
       "        vertical-align: top;\n",
       "    }\n",
       "\n",
       "    .dataframe thead th {\n",
       "        text-align: right;\n",
       "    }\n",
       "</style>\n",
       "<table border=\"1\" class=\"dataframe\">\n",
       "  <thead>\n",
       "    <tr style=\"text-align: right;\">\n",
       "      <th></th>\n",
       "      <th>HEX</th>\n",
       "      <th>RGB</th>\n",
       "    </tr>\n",
       "    <tr>\n",
       "      <th>Name</th>\n",
       "      <th></th>\n",
       "      <th></th>\n",
       "    </tr>\n",
       "  </thead>\n",
       "  <tbody>\n",
       "    <tr>\n",
       "      <th>White</th>\n",
       "      <td>#FFFFFF</td>\n",
       "      <td>rgb(100,100,100)</td>\n",
       "    </tr>\n",
       "    <tr>\n",
       "      <th>Silver</th>\n",
       "      <td>#C0C0C0</td>\n",
       "      <td>rgb(75,75,75)</td>\n",
       "    </tr>\n",
       "    <tr>\n",
       "      <th>Gray</th>\n",
       "      <td>#808080</td>\n",
       "      <td>rgb(50,50,50)</td>\n",
       "    </tr>\n",
       "    <tr>\n",
       "      <th>Black</th>\n",
       "      <td>#000000</td>\n",
       "      <td>rgb(0,0,0)</td>\n",
       "    </tr>\n",
       "    <tr>\n",
       "      <th>Red</th>\n",
       "      <td>#FF0000</td>\n",
       "      <td>rgb(100,0,0)</td>\n",
       "    </tr>\n",
       "    <tr>\n",
       "      <th>Maroon</th>\n",
       "      <td>#800000</td>\n",
       "      <td>rgb(50,0,0)</td>\n",
       "    </tr>\n",
       "    <tr>\n",
       "      <th>Yellow</th>\n",
       "      <td>#FFFF00</td>\n",
       "      <td>rgb(100,100,0)</td>\n",
       "    </tr>\n",
       "    <tr>\n",
       "      <th>Olive</th>\n",
       "      <td>#808000</td>\n",
       "      <td>rgb(50,50,0)</td>\n",
       "    </tr>\n",
       "    <tr>\n",
       "      <th>Lime</th>\n",
       "      <td>#00FF00</td>\n",
       "      <td>rgb(0,100,0)</td>\n",
       "    </tr>\n",
       "    <tr>\n",
       "      <th>Green</th>\n",
       "      <td>#008000</td>\n",
       "      <td>rgb(0,50,0)</td>\n",
       "    </tr>\n",
       "    <tr>\n",
       "      <th>Aqua</th>\n",
       "      <td>#00FFFF</td>\n",
       "      <td>rgb(0,100,100)</td>\n",
       "    </tr>\n",
       "    <tr>\n",
       "      <th>Teal</th>\n",
       "      <td>#008080</td>\n",
       "      <td>rgb(0,50,50)</td>\n",
       "    </tr>\n",
       "    <tr>\n",
       "      <th>Blue</th>\n",
       "      <td>#0000FF</td>\n",
       "      <td>rgb(0,0,100)</td>\n",
       "    </tr>\n",
       "    <tr>\n",
       "      <th>Navy</th>\n",
       "      <td>#000080</td>\n",
       "      <td>rgb(0,0,50)</td>\n",
       "    </tr>\n",
       "    <tr>\n",
       "      <th>Fuchsia</th>\n",
       "      <td>#FF00FF</td>\n",
       "      <td>rgb(100,0,100)</td>\n",
       "    </tr>\n",
       "    <tr>\n",
       "      <th>Purple</th>\n",
       "      <td>#800080</td>\n",
       "      <td>rgb(50,0,50)</td>\n",
       "    </tr>\n",
       "  </tbody>\n",
       "</table>\n",
       "</div>"
      ]
     },
     "execution_count": 53,
     "metadata": {},
     "output_type": "execute_result"
    }
   ],
   "execution_count": 53
  },
  {
   "metadata": {
    "ExecuteTime": {
     "end_time": "2024-11-06T00:23:22.424347Z",
     "start_time": "2024-11-06T00:23:22.409942Z"
    }
   },
   "cell_type": "code",
   "source": [
    "df = pd.read_csv(\"/Users/karim/Downloads/color_srgb.csv\")\n",
    "df"
   ],
   "id": "a2370492ca13c6ff",
   "outputs": [
    {
     "data": {
      "text/plain": [
       "       Name      HEX               RGB\n",
       "0     White  #FFFFFF  rgb(100,100,100)\n",
       "1    Silver  #C0C0C0     rgb(75,75,75)\n",
       "2      Gray  #808080     rgb(50,50,50)\n",
       "3     Black  #000000        rgb(0,0,0)\n",
       "4       Red  #FF0000      rgb(100,0,0)\n",
       "5    Maroon  #800000       rgb(50,0,0)\n",
       "6    Yellow  #FFFF00    rgb(100,100,0)\n",
       "7     Olive  #808000      rgb(50,50,0)\n",
       "8      Lime  #00FF00      rgb(0,100,0)\n",
       "9     Green  #008000       rgb(0,50,0)\n",
       "10     Aqua  #00FFFF    rgb(0,100,100)\n",
       "11     Teal  #008080      rgb(0,50,50)\n",
       "12     Blue  #0000FF      rgb(0,0,100)\n",
       "13     Navy  #000080       rgb(0,0,50)\n",
       "14  Fuchsia  #FF00FF    rgb(100,0,100)\n",
       "15   Purple  #800080      rgb(50,0,50)"
      ],
      "text/html": [
       "<div>\n",
       "<style scoped>\n",
       "    .dataframe tbody tr th:only-of-type {\n",
       "        vertical-align: middle;\n",
       "    }\n",
       "\n",
       "    .dataframe tbody tr th {\n",
       "        vertical-align: top;\n",
       "    }\n",
       "\n",
       "    .dataframe thead th {\n",
       "        text-align: right;\n",
       "    }\n",
       "</style>\n",
       "<table border=\"1\" class=\"dataframe\">\n",
       "  <thead>\n",
       "    <tr style=\"text-align: right;\">\n",
       "      <th></th>\n",
       "      <th>Name</th>\n",
       "      <th>HEX</th>\n",
       "      <th>RGB</th>\n",
       "    </tr>\n",
       "  </thead>\n",
       "  <tbody>\n",
       "    <tr>\n",
       "      <th>0</th>\n",
       "      <td>White</td>\n",
       "      <td>#FFFFFF</td>\n",
       "      <td>rgb(100,100,100)</td>\n",
       "    </tr>\n",
       "    <tr>\n",
       "      <th>1</th>\n",
       "      <td>Silver</td>\n",
       "      <td>#C0C0C0</td>\n",
       "      <td>rgb(75,75,75)</td>\n",
       "    </tr>\n",
       "    <tr>\n",
       "      <th>2</th>\n",
       "      <td>Gray</td>\n",
       "      <td>#808080</td>\n",
       "      <td>rgb(50,50,50)</td>\n",
       "    </tr>\n",
       "    <tr>\n",
       "      <th>3</th>\n",
       "      <td>Black</td>\n",
       "      <td>#000000</td>\n",
       "      <td>rgb(0,0,0)</td>\n",
       "    </tr>\n",
       "    <tr>\n",
       "      <th>4</th>\n",
       "      <td>Red</td>\n",
       "      <td>#FF0000</td>\n",
       "      <td>rgb(100,0,0)</td>\n",
       "    </tr>\n",
       "    <tr>\n",
       "      <th>5</th>\n",
       "      <td>Maroon</td>\n",
       "      <td>#800000</td>\n",
       "      <td>rgb(50,0,0)</td>\n",
       "    </tr>\n",
       "    <tr>\n",
       "      <th>6</th>\n",
       "      <td>Yellow</td>\n",
       "      <td>#FFFF00</td>\n",
       "      <td>rgb(100,100,0)</td>\n",
       "    </tr>\n",
       "    <tr>\n",
       "      <th>7</th>\n",
       "      <td>Olive</td>\n",
       "      <td>#808000</td>\n",
       "      <td>rgb(50,50,0)</td>\n",
       "    </tr>\n",
       "    <tr>\n",
       "      <th>8</th>\n",
       "      <td>Lime</td>\n",
       "      <td>#00FF00</td>\n",
       "      <td>rgb(0,100,0)</td>\n",
       "    </tr>\n",
       "    <tr>\n",
       "      <th>9</th>\n",
       "      <td>Green</td>\n",
       "      <td>#008000</td>\n",
       "      <td>rgb(0,50,0)</td>\n",
       "    </tr>\n",
       "    <tr>\n",
       "      <th>10</th>\n",
       "      <td>Aqua</td>\n",
       "      <td>#00FFFF</td>\n",
       "      <td>rgb(0,100,100)</td>\n",
       "    </tr>\n",
       "    <tr>\n",
       "      <th>11</th>\n",
       "      <td>Teal</td>\n",
       "      <td>#008080</td>\n",
       "      <td>rgb(0,50,50)</td>\n",
       "    </tr>\n",
       "    <tr>\n",
       "      <th>12</th>\n",
       "      <td>Blue</td>\n",
       "      <td>#0000FF</td>\n",
       "      <td>rgb(0,0,100)</td>\n",
       "    </tr>\n",
       "    <tr>\n",
       "      <th>13</th>\n",
       "      <td>Navy</td>\n",
       "      <td>#000080</td>\n",
       "      <td>rgb(0,0,50)</td>\n",
       "    </tr>\n",
       "    <tr>\n",
       "      <th>14</th>\n",
       "      <td>Fuchsia</td>\n",
       "      <td>#FF00FF</td>\n",
       "      <td>rgb(100,0,100)</td>\n",
       "    </tr>\n",
       "    <tr>\n",
       "      <th>15</th>\n",
       "      <td>Purple</td>\n",
       "      <td>#800080</td>\n",
       "      <td>rgb(50,0,50)</td>\n",
       "    </tr>\n",
       "  </tbody>\n",
       "</table>\n",
       "</div>"
      ]
     },
     "execution_count": 54,
     "metadata": {},
     "output_type": "execute_result"
    }
   ],
   "execution_count": 54
  },
  {
   "metadata": {
    "ExecuteTime": {
     "end_time": "2024-11-06T00:23:23.353021Z",
     "start_time": "2024-11-06T00:23:23.323751Z"
    }
   },
   "cell_type": "code",
   "source": [
    "df.to_csv(\"color_sr_to.csv\")\n",
    "df.to_excel(\"color_sr_to.xlsx\")"
   ],
   "id": "a4ad221af58b3d68",
   "outputs": [],
   "execution_count": 55
  },
  {
   "metadata": {},
   "cell_type": "code",
   "source": [
    "# firs 5 rows from color_sr\n",
    "df.head()"
   ],
   "id": "69efa2de815bf53d",
   "outputs": [],
   "execution_count": null
  },
  {
   "metadata": {
    "ExecuteTime": {
     "end_time": "2024-11-06T08:34:48.440553Z",
     "start_time": "2024-11-06T08:34:48.412276Z"
    }
   },
   "cell_type": "code",
   "source": "df.tail()",
   "id": "f113658aca56618d",
   "outputs": [
    {
     "data": {
      "text/plain": [
       "       Name      HEX             RGB\n",
       "11     Teal  #008080    rgb(0,50,50)\n",
       "12     Blue  #0000FF    rgb(0,0,100)\n",
       "13     Navy  #000080     rgb(0,0,50)\n",
       "14  Fuchsia  #FF00FF  rgb(100,0,100)\n",
       "15   Purple  #800080    rgb(50,0,50)"
      ],
      "text/html": [
       "<div>\n",
       "<style scoped>\n",
       "    .dataframe tbody tr th:only-of-type {\n",
       "        vertical-align: middle;\n",
       "    }\n",
       "\n",
       "    .dataframe tbody tr th {\n",
       "        vertical-align: top;\n",
       "    }\n",
       "\n",
       "    .dataframe thead th {\n",
       "        text-align: right;\n",
       "    }\n",
       "</style>\n",
       "<table border=\"1\" class=\"dataframe\">\n",
       "  <thead>\n",
       "    <tr style=\"text-align: right;\">\n",
       "      <th></th>\n",
       "      <th>Name</th>\n",
       "      <th>HEX</th>\n",
       "      <th>RGB</th>\n",
       "    </tr>\n",
       "  </thead>\n",
       "  <tbody>\n",
       "    <tr>\n",
       "      <th>11</th>\n",
       "      <td>Teal</td>\n",
       "      <td>#008080</td>\n",
       "      <td>rgb(0,50,50)</td>\n",
       "    </tr>\n",
       "    <tr>\n",
       "      <th>12</th>\n",
       "      <td>Blue</td>\n",
       "      <td>#0000FF</td>\n",
       "      <td>rgb(0,0,100)</td>\n",
       "    </tr>\n",
       "    <tr>\n",
       "      <th>13</th>\n",
       "      <td>Navy</td>\n",
       "      <td>#000080</td>\n",
       "      <td>rgb(0,0,50)</td>\n",
       "    </tr>\n",
       "    <tr>\n",
       "      <th>14</th>\n",
       "      <td>Fuchsia</td>\n",
       "      <td>#FF00FF</td>\n",
       "      <td>rgb(100,0,100)</td>\n",
       "    </tr>\n",
       "    <tr>\n",
       "      <th>15</th>\n",
       "      <td>Purple</td>\n",
       "      <td>#800080</td>\n",
       "      <td>rgb(50,0,50)</td>\n",
       "    </tr>\n",
       "  </tbody>\n",
       "</table>\n",
       "</div>"
      ]
     },
     "execution_count": 93,
     "metadata": {},
     "output_type": "execute_result"
    }
   ],
   "execution_count": 93
  },
  {
   "metadata": {
    "ExecuteTime": {
     "end_time": "2024-11-06T00:23:25.580691Z",
     "start_time": "2024-11-06T00:23:25.573085Z"
    }
   },
   "cell_type": "code",
   "source": "df[\"HEX\"]",
   "id": "25d5143bba929cb9",
   "outputs": [
    {
     "data": {
      "text/plain": [
       "0     #FFFFFF\n",
       "1     #C0C0C0\n",
       "2     #808080\n",
       "3     #000000\n",
       "4     #FF0000\n",
       "5     #800000\n",
       "6     #FFFF00\n",
       "7     #808000\n",
       "8     #00FF00\n",
       "9     #008000\n",
       "10    #00FFFF\n",
       "11    #008080\n",
       "12    #0000FF\n",
       "13    #000080\n",
       "14    #FF00FF\n",
       "15    #800080\n",
       "Name: HEX, dtype: object"
      ]
     },
     "execution_count": 57,
     "metadata": {},
     "output_type": "execute_result"
    }
   ],
   "execution_count": 57
  },
  {
   "metadata": {
    "ExecuteTime": {
     "end_time": "2024-11-06T00:24:12.408165Z",
     "start_time": "2024-11-06T00:24:12.375502Z"
    }
   },
   "cell_type": "code",
   "source": "df[\"HEX\"].unique()",
   "id": "57647aac076fba2",
   "outputs": [
    {
     "data": {
      "text/plain": [
       "array(['#FFFFFF', '#C0C0C0', '#808080', '#000000', '#FF0000', '#800000',\n",
       "       '#FFFF00', '#808000', '#00FF00', '#008000', '#00FFFF', '#008080',\n",
       "       '#0000FF', '#000080', '#FF00FF', '#800080'], dtype=object)"
      ]
     },
     "execution_count": 58,
     "metadata": {},
     "output_type": "execute_result"
    }
   ],
   "execution_count": 58
  },
  {
   "metadata": {},
   "cell_type": "code",
   "source": [
    "# first 5 and last 3\n",
    "df"
   ],
   "id": "e023fe15e8f76a8a",
   "outputs": [],
   "execution_count": null
  },
  {
   "metadata": {},
   "cell_type": "code",
   "source": "df.info()",
   "id": "4c084f08da0db7e1",
   "outputs": [],
   "execution_count": null
  },
  {
   "metadata": {},
   "cell_type": "code",
   "source": "df.describe()",
   "id": "215a944d04d54312",
   "outputs": [],
   "execution_count": null
  },
  {
   "metadata": {},
   "cell_type": "code",
   "source": "df.describe(include=\"object\")",
   "id": "b6c7bf840ce0a466",
   "outputs": [],
   "execution_count": null
  },
  {
   "metadata": {
    "ExecuteTime": {
     "end_time": "2024-11-06T01:17:27.896446Z",
     "start_time": "2024-11-06T01:17:27.878420Z"
    }
   },
   "cell_type": "code",
   "source": "print(df.to_string())",
   "id": "e657670e94c69938",
   "outputs": [
    {
     "name": "stdout",
     "output_type": "stream",
     "text": [
      "       Name      HEX               RGB\n",
      "0     White  #FFFFFF  rgb(100,100,100)\n",
      "1    Silver  #C0C0C0     rgb(75,75,75)\n",
      "2      Gray  #808080     rgb(50,50,50)\n",
      "3     Black  #000000        rgb(0,0,0)\n",
      "4       Red  #FF0000      rgb(100,0,0)\n",
      "5    Maroon  #800000       rgb(50,0,0)\n",
      "6    Yellow  #FFFF00    rgb(100,100,0)\n",
      "7     Olive  #808000      rgb(50,50,0)\n",
      "8      Lime  #00FF00      rgb(0,100,0)\n",
      "9     Green  #008000       rgb(0,50,0)\n",
      "10     Aqua  #00FFFF    rgb(0,100,100)\n",
      "11     Teal  #008080      rgb(0,50,50)\n",
      "12     Blue  #0000FF      rgb(0,0,100)\n",
      "13     Navy  #000080       rgb(0,0,50)\n",
      "14  Fuchsia  #FF00FF    rgb(100,0,100)\n",
      "15   Purple  #800080      rgb(50,0,50)\n"
     ]
    }
   ],
   "execution_count": 85
  },
  {
   "metadata": {},
   "cell_type": "code",
   "source": "df.isnull()",
   "id": "95fb255394d00350",
   "outputs": [],
   "execution_count": null
  },
  {
   "metadata": {},
   "cell_type": "code",
   "source": "df.isnull().sum()",
   "id": "d87a7205624cf8a1",
   "outputs": [],
   "execution_count": null
  },
  {
   "metadata": {},
   "cell_type": "code",
   "source": "df.isnull().sum().sum()",
   "id": "d8956e1767232faa",
   "outputs": [],
   "execution_count": null
  },
  {
   "metadata": {
    "ExecuteTime": {
     "end_time": "2024-11-06T01:19:09.756255Z",
     "start_time": "2024-11-06T01:19:09.726987Z"
    }
   },
   "cell_type": "code",
   "source": "df.value_counts()",
   "id": "5c1d122be22eb3c0",
   "outputs": [
    {
     "data": {
      "text/plain": [
       "Name     HEX      RGB             \n",
       "Aqua     #00FFFF  rgb(0,100,100)      1\n",
       "Black    #000000  rgb(0,0,0)          1\n",
       "Blue     #0000FF  rgb(0,0,100)        1\n",
       "Fuchsia  #FF00FF  rgb(100,0,100)      1\n",
       "Gray     #808080  rgb(50,50,50)       1\n",
       "Green    #008000  rgb(0,50,0)         1\n",
       "Lime     #00FF00  rgb(0,100,0)        1\n",
       "Maroon   #800000  rgb(50,0,0)         1\n",
       "Navy     #000080  rgb(0,0,50)         1\n",
       "Olive    #808000  rgb(50,50,0)        1\n",
       "Purple   #800080  rgb(50,0,50)        1\n",
       "Red      #FF0000  rgb(100,0,0)        1\n",
       "Silver   #C0C0C0  rgb(75,75,75)       1\n",
       "Teal     #008080  rgb(0,50,50)        1\n",
       "White    #FFFFFF  rgb(100,100,100)    1\n",
       "Yellow   #FFFF00  rgb(100,100,0)      1\n",
       "Name: count, dtype: int64"
      ]
     },
     "execution_count": 89,
     "metadata": {},
     "output_type": "execute_result"
    }
   ],
   "execution_count": 89
  },
  {
   "metadata": {},
   "cell_type": "code",
   "source": "df.nunique()",
   "id": "460967a5521ff13d",
   "outputs": [],
   "execution_count": null
  },
  {
   "metadata": {
    "ExecuteTime": {
     "end_time": "2024-11-06T01:19:54.783570Z",
     "start_time": "2024-11-06T01:19:54.760398Z"
    }
   },
   "cell_type": "code",
   "source": "df.dropna()",
   "id": "512d9bcc4f853f68",
   "outputs": [
    {
     "data": {
      "text/plain": [
       "       Name      HEX               RGB\n",
       "0     White  #FFFFFF  rgb(100,100,100)\n",
       "1    Silver  #C0C0C0     rgb(75,75,75)\n",
       "2      Gray  #808080     rgb(50,50,50)\n",
       "3     Black  #000000        rgb(0,0,0)\n",
       "4       Red  #FF0000      rgb(100,0,0)\n",
       "5    Maroon  #800000       rgb(50,0,0)\n",
       "6    Yellow  #FFFF00    rgb(100,100,0)\n",
       "7     Olive  #808000      rgb(50,50,0)\n",
       "8      Lime  #00FF00      rgb(0,100,0)\n",
       "9     Green  #008000       rgb(0,50,0)\n",
       "10     Aqua  #00FFFF    rgb(0,100,100)\n",
       "11     Teal  #008080      rgb(0,50,50)\n",
       "12     Blue  #0000FF      rgb(0,0,100)\n",
       "13     Navy  #000080       rgb(0,0,50)\n",
       "14  Fuchsia  #FF00FF    rgb(100,0,100)\n",
       "15   Purple  #800080      rgb(50,0,50)"
      ],
      "text/html": [
       "<div>\n",
       "<style scoped>\n",
       "    .dataframe tbody tr th:only-of-type {\n",
       "        vertical-align: middle;\n",
       "    }\n",
       "\n",
       "    .dataframe tbody tr th {\n",
       "        vertical-align: top;\n",
       "    }\n",
       "\n",
       "    .dataframe thead th {\n",
       "        text-align: right;\n",
       "    }\n",
       "</style>\n",
       "<table border=\"1\" class=\"dataframe\">\n",
       "  <thead>\n",
       "    <tr style=\"text-align: right;\">\n",
       "      <th></th>\n",
       "      <th>Name</th>\n",
       "      <th>HEX</th>\n",
       "      <th>RGB</th>\n",
       "    </tr>\n",
       "  </thead>\n",
       "  <tbody>\n",
       "    <tr>\n",
       "      <th>0</th>\n",
       "      <td>White</td>\n",
       "      <td>#FFFFFF</td>\n",
       "      <td>rgb(100,100,100)</td>\n",
       "    </tr>\n",
       "    <tr>\n",
       "      <th>1</th>\n",
       "      <td>Silver</td>\n",
       "      <td>#C0C0C0</td>\n",
       "      <td>rgb(75,75,75)</td>\n",
       "    </tr>\n",
       "    <tr>\n",
       "      <th>2</th>\n",
       "      <td>Gray</td>\n",
       "      <td>#808080</td>\n",
       "      <td>rgb(50,50,50)</td>\n",
       "    </tr>\n",
       "    <tr>\n",
       "      <th>3</th>\n",
       "      <td>Black</td>\n",
       "      <td>#000000</td>\n",
       "      <td>rgb(0,0,0)</td>\n",
       "    </tr>\n",
       "    <tr>\n",
       "      <th>4</th>\n",
       "      <td>Red</td>\n",
       "      <td>#FF0000</td>\n",
       "      <td>rgb(100,0,0)</td>\n",
       "    </tr>\n",
       "    <tr>\n",
       "      <th>5</th>\n",
       "      <td>Maroon</td>\n",
       "      <td>#800000</td>\n",
       "      <td>rgb(50,0,0)</td>\n",
       "    </tr>\n",
       "    <tr>\n",
       "      <th>6</th>\n",
       "      <td>Yellow</td>\n",
       "      <td>#FFFF00</td>\n",
       "      <td>rgb(100,100,0)</td>\n",
       "    </tr>\n",
       "    <tr>\n",
       "      <th>7</th>\n",
       "      <td>Olive</td>\n",
       "      <td>#808000</td>\n",
       "      <td>rgb(50,50,0)</td>\n",
       "    </tr>\n",
       "    <tr>\n",
       "      <th>8</th>\n",
       "      <td>Lime</td>\n",
       "      <td>#00FF00</td>\n",
       "      <td>rgb(0,100,0)</td>\n",
       "    </tr>\n",
       "    <tr>\n",
       "      <th>9</th>\n",
       "      <td>Green</td>\n",
       "      <td>#008000</td>\n",
       "      <td>rgb(0,50,0)</td>\n",
       "    </tr>\n",
       "    <tr>\n",
       "      <th>10</th>\n",
       "      <td>Aqua</td>\n",
       "      <td>#00FFFF</td>\n",
       "      <td>rgb(0,100,100)</td>\n",
       "    </tr>\n",
       "    <tr>\n",
       "      <th>11</th>\n",
       "      <td>Teal</td>\n",
       "      <td>#008080</td>\n",
       "      <td>rgb(0,50,50)</td>\n",
       "    </tr>\n",
       "    <tr>\n",
       "      <th>12</th>\n",
       "      <td>Blue</td>\n",
       "      <td>#0000FF</td>\n",
       "      <td>rgb(0,0,100)</td>\n",
       "    </tr>\n",
       "    <tr>\n",
       "      <th>13</th>\n",
       "      <td>Navy</td>\n",
       "      <td>#000080</td>\n",
       "      <td>rgb(0,0,50)</td>\n",
       "    </tr>\n",
       "    <tr>\n",
       "      <th>14</th>\n",
       "      <td>Fuchsia</td>\n",
       "      <td>#FF00FF</td>\n",
       "      <td>rgb(100,0,100)</td>\n",
       "    </tr>\n",
       "    <tr>\n",
       "      <th>15</th>\n",
       "      <td>Purple</td>\n",
       "      <td>#800080</td>\n",
       "      <td>rgb(50,0,50)</td>\n",
       "    </tr>\n",
       "  </tbody>\n",
       "</table>\n",
       "</div>"
      ]
     },
     "execution_count": 91,
     "metadata": {},
     "output_type": "execute_result"
    }
   ],
   "execution_count": 91
  },
  {
   "metadata": {
    "ExecuteTime": {
     "end_time": "2024-11-06T00:26:44.263295Z",
     "start_time": "2024-11-06T00:26:44.236571Z"
    }
   },
   "cell_type": "code",
   "outputs": [
    {
     "data": {
      "text/plain": [
       "'Gray'"
      ]
     },
     "execution_count": 61,
     "metadata": {},
     "output_type": "execute_result"
    }
   ],
   "execution_count": 61,
   "source": "df.loc[2,\"Name\"]",
   "id": "13555e8f594d0977"
  },
  {
   "metadata": {
    "ExecuteTime": {
     "end_time": "2024-11-06T00:27:03.598585Z",
     "start_time": "2024-11-06T00:27:03.586553Z"
    }
   },
   "cell_type": "code",
   "source": "df.loc[6,\"RGB\"]",
   "id": "e77dac1c40d81500",
   "outputs": [
    {
     "data": {
      "text/plain": [
       "'rgb(100,100,0)'"
      ]
     },
     "execution_count": 62,
     "metadata": {},
     "output_type": "execute_result"
    }
   ],
   "execution_count": 62
  },
  {
   "metadata": {
    "ExecuteTime": {
     "end_time": "2024-11-06T00:28:12.693498Z",
     "start_time": "2024-11-06T00:28:12.681279Z"
    }
   },
   "cell_type": "code",
   "source": "df.loc[0:2,\"Name\"]",
   "id": "f55464be8ed47ac3",
   "outputs": [
    {
     "data": {
      "text/plain": [
       "0     White\n",
       "1    Silver\n",
       "2      Gray\n",
       "Name: Name, dtype: object"
      ]
     },
     "execution_count": 64,
     "metadata": {},
     "output_type": "execute_result"
    }
   ],
   "execution_count": 64
  },
  {
   "metadata": {
    "ExecuteTime": {
     "end_time": "2024-11-06T00:28:48.580040Z",
     "start_time": "2024-11-06T00:28:48.557127Z"
    }
   },
   "cell_type": "code",
   "source": [
    "# in loc it takes the whole range but in iloc it takes the whole rangeexcept thelast as normal\n",
    "df.loc[0:5,\"Name\": \"RGB\"]"
   ],
   "id": "2ca9a35175c0f9e1",
   "outputs": [
    {
     "data": {
      "text/plain": [
       "     Name      HEX               RGB\n",
       "0   White  #FFFFFF  rgb(100,100,100)\n",
       "1  Silver  #C0C0C0     rgb(75,75,75)\n",
       "2    Gray  #808080     rgb(50,50,50)\n",
       "3   Black  #000000        rgb(0,0,0)\n",
       "4     Red  #FF0000      rgb(100,0,0)\n",
       "5  Maroon  #800000       rgb(50,0,0)"
      ],
      "text/html": [
       "<div>\n",
       "<style scoped>\n",
       "    .dataframe tbody tr th:only-of-type {\n",
       "        vertical-align: middle;\n",
       "    }\n",
       "\n",
       "    .dataframe tbody tr th {\n",
       "        vertical-align: top;\n",
       "    }\n",
       "\n",
       "    .dataframe thead th {\n",
       "        text-align: right;\n",
       "    }\n",
       "</style>\n",
       "<table border=\"1\" class=\"dataframe\">\n",
       "  <thead>\n",
       "    <tr style=\"text-align: right;\">\n",
       "      <th></th>\n",
       "      <th>Name</th>\n",
       "      <th>HEX</th>\n",
       "      <th>RGB</th>\n",
       "    </tr>\n",
       "  </thead>\n",
       "  <tbody>\n",
       "    <tr>\n",
       "      <th>0</th>\n",
       "      <td>White</td>\n",
       "      <td>#FFFFFF</td>\n",
       "      <td>rgb(100,100,100)</td>\n",
       "    </tr>\n",
       "    <tr>\n",
       "      <th>1</th>\n",
       "      <td>Silver</td>\n",
       "      <td>#C0C0C0</td>\n",
       "      <td>rgb(75,75,75)</td>\n",
       "    </tr>\n",
       "    <tr>\n",
       "      <th>2</th>\n",
       "      <td>Gray</td>\n",
       "      <td>#808080</td>\n",
       "      <td>rgb(50,50,50)</td>\n",
       "    </tr>\n",
       "    <tr>\n",
       "      <th>3</th>\n",
       "      <td>Black</td>\n",
       "      <td>#000000</td>\n",
       "      <td>rgb(0,0,0)</td>\n",
       "    </tr>\n",
       "    <tr>\n",
       "      <th>4</th>\n",
       "      <td>Red</td>\n",
       "      <td>#FF0000</td>\n",
       "      <td>rgb(100,0,0)</td>\n",
       "    </tr>\n",
       "    <tr>\n",
       "      <th>5</th>\n",
       "      <td>Maroon</td>\n",
       "      <td>#800000</td>\n",
       "      <td>rgb(50,0,0)</td>\n",
       "    </tr>\n",
       "  </tbody>\n",
       "</table>\n",
       "</div>"
      ]
     },
     "execution_count": 65,
     "metadata": {},
     "output_type": "execute_result"
    }
   ],
   "execution_count": 65
  },
  {
   "metadata": {
    "ExecuteTime": {
     "end_time": "2024-11-06T00:29:38.407410Z",
     "start_time": "2024-11-06T00:29:38.379941Z"
    }
   },
   "cell_type": "code",
   "source": "df.iloc[2,2]",
   "id": "245e8ce6148671c9",
   "outputs": [
    {
     "data": {
      "text/plain": [
       "'rgb(50,50,50)'"
      ]
     },
     "execution_count": 66,
     "metadata": {},
     "output_type": "execute_result"
    }
   ],
   "execution_count": 66
  },
  {
   "metadata": {
    "ExecuteTime": {
     "end_time": "2024-11-06T00:29:54.021348Z",
     "start_time": "2024-11-06T00:29:54.006273Z"
    }
   },
   "cell_type": "code",
   "source": "df.iloc[6,0]",
   "id": "66d226b96e524a74",
   "outputs": [
    {
     "data": {
      "text/plain": [
       "'Yellow'"
      ]
     },
     "execution_count": 67,
     "metadata": {},
     "output_type": "execute_result"
    }
   ],
   "execution_count": 67
  },
  {
   "metadata": {
    "ExecuteTime": {
     "end_time": "2024-11-06T00:31:36.431240Z",
     "start_time": "2024-11-06T00:31:36.406183Z"
    }
   },
   "cell_type": "code",
   "source": [
    "# in loc it takes the whole range but in iloc it takes the whole range except thelast as normal\n",
    "df.iloc[0:2,1]"
   ],
   "id": "309e9f9e3779cfe2",
   "outputs": [
    {
     "data": {
      "text/plain": [
       "0    #FFFFFF\n",
       "1    #C0C0C0\n",
       "Name: HEX, dtype: object"
      ]
     },
     "execution_count": 69,
     "metadata": {},
     "output_type": "execute_result"
    }
   ],
   "execution_count": 69
  },
  {
   "metadata": {
    "ExecuteTime": {
     "end_time": "2024-11-06T00:32:24.109629Z",
     "start_time": "2024-11-06T00:32:24.088130Z"
    }
   },
   "cell_type": "code",
   "source": "df.iloc[3:5,0:2]",
   "id": "8c8e716f56976f49",
   "outputs": [
    {
     "data": {
      "text/plain": [
       "    Name      HEX\n",
       "3  Black  #000000\n",
       "4    Red  #FF0000"
      ],
      "text/html": [
       "<div>\n",
       "<style scoped>\n",
       "    .dataframe tbody tr th:only-of-type {\n",
       "        vertical-align: middle;\n",
       "    }\n",
       "\n",
       "    .dataframe tbody tr th {\n",
       "        vertical-align: top;\n",
       "    }\n",
       "\n",
       "    .dataframe thead th {\n",
       "        text-align: right;\n",
       "    }\n",
       "</style>\n",
       "<table border=\"1\" class=\"dataframe\">\n",
       "  <thead>\n",
       "    <tr style=\"text-align: right;\">\n",
       "      <th></th>\n",
       "      <th>Name</th>\n",
       "      <th>HEX</th>\n",
       "    </tr>\n",
       "  </thead>\n",
       "  <tbody>\n",
       "    <tr>\n",
       "      <th>3</th>\n",
       "      <td>Black</td>\n",
       "      <td>#000000</td>\n",
       "    </tr>\n",
       "    <tr>\n",
       "      <th>4</th>\n",
       "      <td>Red</td>\n",
       "      <td>#FF0000</td>\n",
       "    </tr>\n",
       "  </tbody>\n",
       "</table>\n",
       "</div>"
      ]
     },
     "execution_count": 71,
     "metadata": {},
     "output_type": "execute_result"
    }
   ],
   "execution_count": 71
  },
  {
   "metadata": {
    "ExecuteTime": {
     "end_time": "2024-11-06T00:35:26.550231Z",
     "start_time": "2024-11-06T00:35:26.525714Z"
    }
   },
   "cell_type": "code",
   "source": "dic = {\"name\":[\"ahmed\",'sara','karim','nour'],\"Grade\":[\"B+\",\"A\",\"A+\",\"c\"]}",
   "id": "4331ae0bb23b062e",
   "outputs": [],
   "execution_count": 72
  },
  {
   "metadata": {
    "ExecuteTime": {
     "end_time": "2024-11-06T00:35:47.339022Z",
     "start_time": "2024-11-06T00:35:47.321169Z"
    }
   },
   "cell_type": "code",
   "source": "df1=pd.DataFrame(dic)",
   "id": "9f2b425cb17840c5",
   "outputs": [],
   "execution_count": 73
  },
  {
   "metadata": {
    "ExecuteTime": {
     "end_time": "2024-11-06T00:36:19.450386Z",
     "start_time": "2024-11-06T00:36:19.426710Z"
    }
   },
   "cell_type": "code",
   "source": "df1",
   "id": "d1cc357bb6ad1b5c",
   "outputs": [
    {
     "data": {
      "text/plain": [
       "    name Grade\n",
       "0  ahmed    B+\n",
       "1   sara     A\n",
       "2  karim    A+\n",
       "3   nour     c"
      ],
      "text/html": [
       "<div>\n",
       "<style scoped>\n",
       "    .dataframe tbody tr th:only-of-type {\n",
       "        vertical-align: middle;\n",
       "    }\n",
       "\n",
       "    .dataframe tbody tr th {\n",
       "        vertical-align: top;\n",
       "    }\n",
       "\n",
       "    .dataframe thead th {\n",
       "        text-align: right;\n",
       "    }\n",
       "</style>\n",
       "<table border=\"1\" class=\"dataframe\">\n",
       "  <thead>\n",
       "    <tr style=\"text-align: right;\">\n",
       "      <th></th>\n",
       "      <th>name</th>\n",
       "      <th>Grade</th>\n",
       "    </tr>\n",
       "  </thead>\n",
       "  <tbody>\n",
       "    <tr>\n",
       "      <th>0</th>\n",
       "      <td>ahmed</td>\n",
       "      <td>B+</td>\n",
       "    </tr>\n",
       "    <tr>\n",
       "      <th>1</th>\n",
       "      <td>sara</td>\n",
       "      <td>A</td>\n",
       "    </tr>\n",
       "    <tr>\n",
       "      <th>2</th>\n",
       "      <td>karim</td>\n",
       "      <td>A+</td>\n",
       "    </tr>\n",
       "    <tr>\n",
       "      <th>3</th>\n",
       "      <td>nour</td>\n",
       "      <td>c</td>\n",
       "    </tr>\n",
       "  </tbody>\n",
       "</table>\n",
       "</div>"
      ]
     },
     "execution_count": 74,
     "metadata": {},
     "output_type": "execute_result"
    }
   ],
   "execution_count": 74
  },
  {
   "metadata": {},
   "cell_type": "code",
   "source": [
    "df1.to_csv(\"grades.csv\")\n",
    "df1.to_excel(\"grades.xlsx\")"
   ],
   "id": "db3d2039da6f7b8",
   "outputs": [],
   "execution_count": null
  },
  {
   "metadata": {
    "ExecuteTime": {
     "end_time": "2024-11-06T00:37:15.846634Z",
     "start_time": "2024-11-06T00:37:15.764503Z"
    }
   },
   "cell_type": "code",
   "outputs": [],
   "execution_count": 75,
   "source": "",
   "id": "2ace266d85def57e"
  }
 ],
 "metadata": {
  "kernelspec": {
   "display_name": "Python 3",
   "language": "python",
   "name": "python3"
  },
  "language_info": {
   "codemirror_mode": {
    "name": "ipython",
    "version": 2
   },
   "file_extension": ".py",
   "mimetype": "text/x-python",
   "name": "python",
   "nbconvert_exporter": "python",
   "pygments_lexer": "ipython2",
   "version": "2.7.6"
  }
 },
 "nbformat": 4,
 "nbformat_minor": 5
}
